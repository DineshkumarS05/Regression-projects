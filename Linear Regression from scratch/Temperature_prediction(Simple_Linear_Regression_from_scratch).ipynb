{
  "cells": [
    {
      "cell_type": "markdown",
      "metadata": {
        "id": "view-in-github",
        "colab_type": "text"
      },
      "source": [
        "<a href=\"https://colab.research.google.com/github/DonOfDigitalWorld/Temperature-prediction_Simple-Linear-Regression-from-scratch/blob/main/Temperature_prediction(Simple_Linear_Regression_from_scratch).ipynb\" target=\"_parent\"><img src=\"https://colab.research.google.com/assets/colab-badge.svg\" alt=\"Open In Colab\"/></a>"
      ]
    },
    {
      "cell_type": "code",
      "execution_count": 1,
      "metadata": {
        "id": "Lasx-P8znlTJ"
      },
      "outputs": [],
      "source": [
        "import numpy as np"
      ]
    },
    {
      "cell_type": "code",
      "execution_count": 2,
      "metadata": {
        "id": "MrpRru59nvor"
      },
      "outputs": [],
      "source": [
        "# Input and Output data\n",
        "x = np.array([-40, -10,  0,  8, 15, 22],  dtype=float)\n",
        "y = np.array([-40,  14, 32, 46, 59, 72],  dtype=float)"
      ]
    },
    {
      "cell_type": "code",
      "execution_count": 3,
      "metadata": {
        "id": "wbDMabZbnyaj"
      },
      "outputs": [],
      "source": [
        "# Hyperparameters\n",
        "m=0\n",
        "c=0\n",
        "learning_rate=0.001\n",
        "epochs = 3000\n",
        "n=len(x)\n",
        "error_vals=[]"
      ]
    },
    {
      "cell_type": "code",
      "execution_count": 4,
      "metadata": {
        "id": "f1Q2Wn1Bv_Ye"
      },
      "outputs": [],
      "source": [
        "# Define error function\n",
        "def error(ypredict):\n",
        "  return np.mean(np.square(y-ypredict))"
      ]
    },
    {
      "cell_type": "code",
      "execution_count": 5,
      "metadata": {
        "id": "wczlHA1bn9Ty"
      },
      "outputs": [],
      "source": [
        "# Define Gradient Descent Function \n",
        "def Gradient_Descent(m,c,x,y,ypredict,learning_rate):\n",
        "  de_dm = (-2/n) * np.sum( x * ( y - ypredict))\n",
        "  de_dc = (-2/n) * np.sum( y - ypredict)\n",
        "  m = m - (de_dm * learning_rate)\n",
        "  c = c - (de_dc * learning_rate)\n",
        "  return m,c"
      ]
    },
    {
      "cell_type": "code",
      "execution_count": 6,
      "metadata": {
        "id": "SyQLz0w7wECu"
      },
      "outputs": [],
      "source": [
        "# Performing Gradient Descent\n",
        "for i in range(epochs):\n",
        "  ypredict = m * x + c\n",
        "\n",
        "  error_vals.append(error(ypredict))\n",
        "  \n",
        "  m,c = Gradient_Descent(m,c,x,y,ypredict,learning_rate)"
      ]
    },
    {
      "cell_type": "code",
      "execution_count": 8,
      "metadata": {
        "colab": {
          "base_uri": "https://localhost:8080/"
        },
        "id": "M-Ixf--4wKSl",
        "outputId": "cd1cf4f4-b03b-4fa2-f589-6dad24a28fce"
      },
      "outputs": [
        {
          "output_type": "stream",
          "name": "stdout",
          "text": [
            "m 1.8021068211233906\n",
            "31.922227148486087\n",
            "100.40228635117494\n",
            "6222.912970454992\n"
          ]
        }
      ],
      "source": [
        "#printing results\n",
        "print(\"m\",m)\n",
        "print(c)\n",
        "ypredict = m * 38 + c\n",
        "print(ypredict)\n",
        "print(error(ypredict))"
      ]
    }
  ],
  "metadata": {
    "colab": {
      "collapsed_sections": [],
      "name": " Temperature prediction(Simple Linear Regression from scratch).ipynb",
      "provenance": [],
      "authorship_tag": "ABX9TyP7gh/WbJPZXexHvqG9EoTt",
      "include_colab_link": true
    },
    "kernelspec": {
      "display_name": "Python 3",
      "name": "python3"
    },
    "language_info": {
      "name": "python"
    }
  },
  "nbformat": 4,
  "nbformat_minor": 0
}